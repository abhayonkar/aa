{
 "cells": [
  {
   "cell_type": "code",
   "execution_count": 1,
   "id": "de7d2a16",
   "metadata": {},
   "outputs": [
    {
     "name": "stdout",
     "output_type": "stream",
     "text": [
      "   Unnamed: 0     TV  radio  newspaper  sales\n",
      "0           1  230.1   37.8       69.2   22.1\n",
      "1           2   44.5   39.3       45.1   10.4\n",
      "2           3   17.2   45.9       69.3    9.3\n",
      "3           4  151.5   41.3       58.5   18.5\n",
      "4           5  180.8   10.8       58.4   12.9\n"
     ]
    }
   ],
   "source": [
    "import numpy as np\n",
    "import matplotlib.pyplot as plt\n",
    "import pandas as pd\n",
    "\n",
    "\n",
    "# Load the dataset\n",
    "url = 'https://raw.githubusercontent.com/selva86/datasets/master/Advertising.csv'\n",
    "data = pd.read_csv(url)\n",
    "\n",
    "# Display the first few rows of the dataset\n",
    "print(data.head())"
   ]
  },
  {
   "cell_type": "code",
   "execution_count": 2,
   "id": "9eda0cf3",
   "metadata": {},
   "outputs": [],
   "source": [
    "# Define features and target\n",
    "X = data[['TV', 'radio', 'newspaper']]\n",
    "y = data['sales']\n"
   ]
  },
  {
   "cell_type": "code",
   "execution_count": 6,
   "id": "809647f6",
   "metadata": {},
   "outputs": [],
   "source": [
    "from sklearn.model_selection import train_test_split\n",
    "\n",
    "# Split the data\n",
    "X_train, X_test, y_train, y_test = train_test_split(X, y, test_size=0.2, random_state=42)"
   ]
  },
  {
   "cell_type": "code",
   "execution_count": 7,
   "id": "9f334660",
   "metadata": {},
   "outputs": [
    {
     "name": "stdout",
     "output_type": "stream",
     "text": [
      "Simple Linear Regression - R2 Score: 0.6766954295627076\n",
      "Simple Linear Regression - MSE: 10.204654118800956\n"
     ]
    }
   ],
   "source": [
    "from sklearn.linear_model import LinearRegression\n",
    "from sklearn.metrics import mean_squared_error, r2_score\n",
    "\n",
    "# Simple Linear Regression\n",
    "X_train_simple = X_train[['TV']]\n",
    "X_test_simple = X_test[['TV']]\n",
    "\n",
    "model_simple = LinearRegression()\n",
    "model_simple.fit(X_train_simple, y_train)\n",
    "\n",
    "y_pred_simple = model_simple.predict(X_test_simple)\n",
    "print(\"Simple Linear Regression - R2 Score:\", r2_score(y_test, y_pred_simple))\n",
    "print(\"Simple Linear Regression - MSE:\", mean_squared_error(y_test, y_pred_simple))"
   ]
  },
  {
   "cell_type": "code",
   "execution_count": null,
   "id": "b5f403e0",
   "metadata": {},
   "outputs": [],
   "source": []
  }
 ],
 "metadata": {
  "kernelspec": {
   "display_name": "Python 3 (ipykernel)",
   "language": "python",
   "name": "python3"
  },
  "language_info": {
   "codemirror_mode": {
    "name": "ipython",
    "version": 3
   },
   "file_extension": ".py",
   "mimetype": "text/x-python",
   "name": "python",
   "nbconvert_exporter": "python",
   "pygments_lexer": "ipython3",
   "version": "3.12.3"
  }
 },
 "nbformat": 4,
 "nbformat_minor": 5
}
